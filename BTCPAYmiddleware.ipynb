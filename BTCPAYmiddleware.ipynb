{
  "nbformat": 4,
  "nbformat_minor": 0,
  "metadata": {
    "colab": {
      "provenance": [],
      "private_outputs": true,
      "authorship_tag": "ABX9TyOQrPrnKbJAF38w3ZmD3DeY",
      "include_colab_link": true
    },
    "kernelspec": {
      "name": "python3",
      "display_name": "Python 3"
    },
    "language_info": {
      "name": "python"
    }
  },
  "cells": [
    {
      "cell_type": "markdown",
      "metadata": {
        "id": "view-in-github",
        "colab_type": "text"
      },
      "source": [
        "<a href=\"https://colab.research.google.com/github/Wanyagah/tronweb/blob/5.x/BTCPAYmiddleware.ipynb\" target=\"_parent\"><img src=\"https://colab.research.google.com/assets/colab-badge.svg\" alt=\"Open In Colab\"/></a>"
      ]
    },
    {
      "cell_type": "code",
      "execution_count": null,
      "metadata": {
        "id": "bRbSj9KoxWlm"
      },
      "outputs": [],
      "source": [
        "!pip install web3 python-dotenv\n",
        "%env INFURA_URL=https://mainnet.infura.io/v3/4ddce069b68a4a8eaad252bba1514366\n",
        "%env SENDER_ADDRESS=0xYourSenderAddress\n",
        "%env PRIVATE_KEY=0x0e514131844D98EEACFf9A589Cf49b74475c9ede\n",
        "%env RECEIVER_ADDRESS=USDt-receievers.json\n",
        "%env USDT_CONTRACT_ADDRESS=0xdAC17F958D2ee523a2206206994597C13D831ec7\n",
        "\n",
        "import os\n",
        "from web3 import Web3\n",
        "from dotenv import load_dotenv\n",
        "\n",
        "load_dotenv()\n",
        "\n",
        "INFURA_URL = os.getenv(\"INFURA_URL\")\n",
        "SENDER_ADDRESS = Web3.to_checksum_address(os.getenv(\"SENDER_ADDRESS\"))\n",
        "PRIVATE_KEY = os.getenv(\"PRIVATE_KEY\")\n",
        "RECEIVER_ADDRESS = os.getenv(\"RECEIVER_ADDRESS\") # This is likely a file name, not an address\n",
        "USDT_CONTRACT_ADDRESS = Web3.to_checksum_address(os.getenv(\"USDT_CONTRACT_ADDRESS\"))\n",
        "\n",
        "# USDT uses 6 decimals, unlike ETH's 18\n",
        "USDT_DECIMALS = 6\n",
        "\n",
        "# Connect to Ethereum via Infura\n",
        "w3 = Web3(Web3.HTTPProvider(INFURA_URL))\n",
        "\n",
        "# Minimal ABI for USDT transfer\n",
        "USDT_ABI = [\n",
        "\"jsonrpc\":\"2.0\",\n",
        "\"method\": \"web3_clientVersion\",\n",
        "\"params\": [],\n",
        "\"id\": 67 }\n",
        "{\"method\": \"eth_getTransactionByBlockHashAndIndex\",}\n",
        "\"params\": [\n",
        "\"0xdAC17F958D2ee523a2206206994597C13D831ec7\",\n",
        "\"0x1\",\n",
        "\"id\": 1,]\n",
        "\n",
        "\n",
        "\n",
        "usdt = w3.eth.contract(address=USDT_CONTRACT_ADDRESS, abi=USDT_ABI)\n",
        "\n",
        "def send_usdt(to_address, amount):\n",
        "    nonce = w3.eth.get_transaction_count(SENDER_ADDRESS)\n",
        "    amount_scaled = int(amount * (10**USDT_DECIMALS))\n",
        "\n",
        "    tx = usdt.functions.transfer(Web3.to_checksum_address(to_address), amount_scaled).build_transaction({\n",
        "        'chainId': 1,  # Mainnet\n",
        "        'gas': 60000,\n",
        "        'gasPrice': w3.to_wei('30', 'gwei'),\n",
        "        'nonce': nonce\n",
        "    })\n",
        "\n",
        "    signed_tx = w3.eth.account.sign_transaction(tx, PRIVATE_KEY)\n",
        "    tx_hash = w3.eth.send_raw_transaction(signed_tx.rawTransaction)\n",
        "    print(\"Transaction sent! Hash:\", w3.to_hex(tx_hash))\n",
        "    return w3.to_hex(tx_hash)\n",
        "    //example 1\n",
        "async function triggercontract(){\n",
        "   let abi = [...];\n",
        "   let instance = await tronWeb.contract(abi, 'contractAddress');\n",
        "   let res = await instance.totalSupply().call();\n",
        "   console.log(res);\n",
        "}\n",
        "triggercontract();\n",
        "\n",
        "//the ABI of the smart contract is not on-chain\n",
        "async function triggercontract(){\n",
        "   let abi = [];\n",
        "   let instance = await tronWeb.contract(abi, 'contractAddress');\n",
        "   instance.loadAbi([{\"constant\":true,\"inputs\":[],\"name\":\"name\",\"outputs\":[{\"name\":\"\",\"type\":\"string\"}],\"payable\":false,\"stateMutability\":\"view\",\"type\":\"function\"}]);\n",
        "     let res = await instance.name().call({_isConstant:true})\n",
        "   console.log(res);\n",
        "}\n",
        "triggercontract();\n",
        "\n",
        "# Simulate a SWIFT confirmation event\n",
        "if __name__ == \"__main__\":\n",
        "    print(\"Waiting for SWIFT confirmation... (simulate manually)\")\n",
        "    input(\"Press Enter to proceed with USDT transfer...\")\n",
        "\n",
        "    # Load receiver addresses from the JSON file\n",
        "    import json\n",
        "    try:\n",
        "        with open(RECEIVER_ADDRESS, 'r') as f:\n",
        "            receiver_addresses = json.load(f)\n",
        "    except FileNotFoundError:\n",
        "        print(f\"Error: Receiver address file '{RECEIVER_ADDRESS}' not found.\")\n",
        "        exit()\n",
        "    except json.JSONDecodeError:\n",
        "        print(f\"Error: Could not decode JSON from '{RECEIVER_ADDRESS}'.\")\n",
        "        exit()\n",
        "\n",
        "    usdt_amount = float(input(\"Enter amount of USDT to transfer to EACH receiver: \"))\n",
        "\n",
        "    for receiver_address in receiver_addresses:\n",
        "        try:\n",
        "            send_usdt(receiver_address, usdt_amount)\n",
        "        except Exception as e:\n",
        "\n"
      ]
    },
    {
      "cell_type": "code",
      "source": [],
      "metadata": {
        "id": "nhvvHbUOLn76"
      },
      "execution_count": null,
      "outputs": []
    }
  ]
}